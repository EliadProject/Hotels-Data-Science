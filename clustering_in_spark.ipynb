{
 "cells": [
  {
   "cell_type": "code",
   "execution_count": 1,
   "metadata": {},
   "outputs": [],
   "source": [
    "from pyspark.sql import SparkSession\n",
    "\n",
    "spark = SparkSession.builder.appName('clustering_spark').getOrCreate()\n"
   ]
  },
  {
   "cell_type": "markdown",
   "metadata": {},
   "source": [
    "## Read Hotels Data"
   ]
  },
  {
   "cell_type": "code",
   "execution_count": 2,
   "metadata": {},
   "outputs": [],
   "source": [
    "hotels_data = spark.read.csv(\"hotels_data.csv\", header = True, inferSchema = True)"
   ]
  },
  {
   "cell_type": "markdown",
   "metadata": {},
   "source": [
    "## Converts String to Dates "
   ]
  },
  {
   "cell_type": "code",
   "execution_count": 3,
   "metadata": {},
   "outputs": [],
   "source": [
    "from pyspark.sql.functions import udf, col\n",
    "from datetime import datetime\n",
    "from pyspark.sql.types import DateType, IntegerType\n",
    "\n",
    "# Converts string to date\n",
    "def str_to_date(str):    \n",
    "    return datetime.strptime(str, '%m/%d/%Y %H:%M')\n",
    "\n",
    "# convert a regular function to pyspark function\n",
    "udf_strToDate = udf(str_to_date, DateType())\n",
    "\n",
    "# convert \"checking_date\" and \"snapshot_date\" to date types\n",
    "hotels_data_with_dates = hotels_data.withColumn(\"checkin_date\", udf_strToDate(col(\"Checkin Date\")))\n",
    "hotels_data_with_dates = hotels_data_with_dates.withColumn(\"snapshot_date\", udf_strToDate(col(\"Snapshot Date\")))"
   ]
  },
  {
   "cell_type": "markdown",
   "metadata": {},
   "source": [
    "## Get 150 common hotels"
   ]
  },
  {
   "cell_type": "code",
   "execution_count": 14,
   "metadata": {
    "scrolled": false
   },
   "outputs": [
    {
     "data": {
      "text/plain": [
       "['Newark Liberty International Airport Marriott',\n",
       " 'Hilton Garden Inn Times Square',\n",
       " 'Residence Inn Newark Elizabeth Liberty International Airport',\n",
       " 'Westin New York at Times Square',\n",
       " 'Loews Regency New York Hotel',\n",
       " 'Viceroy New York',\n",
       " 'Four Seasons Hotel New York',\n",
       " 'Langham Place New York Fifth Avenue',\n",
       " 'The Carlyle A Rosewood Hotel',\n",
       " 'DoubleTree by Hilton Metropolitan - New York City',\n",
       " 'Magnuson Convention Center Hotel',\n",
       " 'Hilton Garden Inn New York West 35th Street',\n",
       " 'Hilton Garden Inn New York-Times Square Central',\n",
       " 'Conrad New York',\n",
       " 'Wyndham Garden Brooklyn Sunset Park',\n",
       " 'Hilton Newark Airport',\n",
       " 'Omni Berkshire Place',\n",
       " 'Hilton Times Square',\n",
       " 'Park Hyatt New York',\n",
       " 'Homewood Suites by Hilton NY Midtown Manhattan Times Square',\n",
       " 'Grand Hyatt New York',\n",
       " 'The Plaza Hotel',\n",
       " 'Quality Inn Woodside',\n",
       " 'Hyatt Union Square New York',\n",
       " 'Le Parker Meridien New York',\n",
       " 'The New York EDITION',\n",
       " 'W New York - Union Square',\n",
       " 'Renaissance Newark Airport Hotel',\n",
       " 'Hampton Inn New York - 35th Street - Empire State Building',\n",
       " 'The Lexington New York City Autograph Collection',\n",
       " 'The Roosevelt Hotel New York City',\n",
       " 'Hilton Garden Inn New York Midtown Park Ave',\n",
       " 'McCarren Hotel & Pool',\n",
       " 'Cassa Hotel 45th Street',\n",
       " 'Hyatt Herald Square New York',\n",
       " 'Martha Washington',\n",
       " 'W New York Times Square',\n",
       " 'Hyatt Place New York Midtown South',\n",
       " 'DoubleTree by Hilton Hotel Newark Airport',\n",
       " 'Hampton Inn Manhattan United Nations',\n",
       " 'Millenium Hilton',\n",
       " 'Hampton Inn Madison Square Garden Area Hotel',\n",
       " 'The Towers of the Waldorf Astoria New York',\n",
       " 'Smyth A Thompson Hotel',\n",
       " 'DoubleTree by Hilton New York City - Chelsea',\n",
       " 'DoubleTree by Hilton New York City - Financial District',\n",
       " 'Hampton Inn Manhattan Soho',\n",
       " 'Hilton Garden Inn New York Manhattan-Midtown East',\n",
       " 'Hampton Inn Manhattan Downtown-Financial District',\n",
       " 'Red Carpet Inn New York City',\n",
       " 'Hampton Inn Manhattan Times Square Central',\n",
       " 'Hilton Garden Inn New York Central Park South-Midtown West',\n",
       " 'Andaz 5th Avenue - a concept by Hyatt',\n",
       " 'Hilton Garden Inn New York Manhattan-Chelsea',\n",
       " 'Gild Hall A Thompson Hotel',\n",
       " 'Hilton Manhattan East',\n",
       " 'Waldorf Astoria New York',\n",
       " 'Sheraton New York Times Square Hotel',\n",
       " 'Hampton Inn Manhattan-Seaport-Financial District',\n",
       " 'Fairfield Inn by Marriott LaGuardia Airport Flushing',\n",
       " 'W New York - Downtown',\n",
       " 'Hilton New York Fashion District',\n",
       " 'Hyatt Times Square New York',\n",
       " 'Hampton Inn Manhattan Times Square South',\n",
       " 'New York Marriott at the Brooklyn Bridge',\n",
       " 'New York Marriott Downtown',\n",
       " 'Hilton Garden Inn New York Long Island City',\n",
       " 'Manhattan NYC-an Affinia hotel',\n",
       " 'The Muse Hotel a Kimpton Hotel',\n",
       " 'New York Hilton Midtown',\n",
       " 'W New York',\n",
       " 'Andaz Wall Street - a concept by Hyatt',\n",
       " 'United Nations Apartment Hotel',\n",
       " 'The Westin New York Grand Central',\n",
       " 'The Peninsula New York',\n",
       " 'NOMO SOHO',\n",
       " 'Home2 Suites by Hilton NY Long Island City Manhattan View',\n",
       " 'The Standard East Village',\n",
       " 'DoubleTree Suites by Hilton New York City - Times Square',\n",
       " 'SpringHill Suites by Marriott Newark Liberty International',\n",
       " 'Eventi Hotel a Kimpton Hotel',\n",
       " 'Hampton Inn New York Chelsea',\n",
       " 'Comfort Inn Times Square South Area',\n",
       " 'The Pearl New York',\n",
       " 'DoubleTree by Hilton Hotel New York - Times Square South',\n",
       " 'The Chatwal a Luxury Collection Hotel New York City',\n",
       " 'Howard Johnson Inn Jamaica JFK Airport NYC',\n",
       " 'Hampton Inn & Suites Staten Island',\n",
       " 'Howard Johnson Flushing',\n",
       " 'Ramada Long Island City',\n",
       " 'SIXTY Lower East Side',\n",
       " 'Courtyard by Marriott New York Manhattan SoHo',\n",
       " 'Best Western Bayside Inn',\n",
       " 'Quality Inn Convention Center',\n",
       " 'Courtyard by Marriott New York Manhattan Times Square',\n",
       " 'Sheraton LaGuardia East Hotel',\n",
       " 'The Premier Hotel New York',\n",
       " 'Hampton Inn JFK Airport',\n",
       " 'Radisson Martinique on Broadway',\n",
       " 'GEM Hotel - Chelsea an Ascend Hotel Collection Member',\n",
       " 'Residence Inn by Marriott New York Manhattan Midtown East',\n",
       " 'Holiday Inn New York JFK Airport Area',\n",
       " 'The High Line Hotel',\n",
       " 'Courtyard by Marriott New York City Manhattan Fifth Avenue',\n",
       " 'New York Marriott East Side',\n",
       " 'The SunBright',\n",
       " 'Hampton Inn Times Square North',\n",
       " 'Shelburne NYC-an Affinia hotel',\n",
       " 'The Lombardy',\n",
       " 'Wyndham Garden - Manhattan Chelsea West',\n",
       " 'Wyndham Garden Long Island City Manhattan View',\n",
       " 'Best Western Plus Newark Airport West',\n",
       " 'Best Western Plus Arena Hotel',\n",
       " 'Bentley Hotel',\n",
       " 'ink48 hotel a Kimpton Hotel',\n",
       " 'Courtyard by Marriott New York Manhattan Upper East Side',\n",
       " 'Howard Johnson Bronx Near Stadium',\n",
       " 'Embassy Suites Newark Airport',\n",
       " 'Hotel 48LEX New York',\n",
       " 'Hilton Garden Inn Tribeca',\n",
       " 'Residence Inn New York The Bronx At Metro Center Atrium',\n",
       " 'Hyatt Place Flushing LaGuardia Airport',\n",
       " 'San Carlos Hotel',\n",
       " 'The Roger',\n",
       " 'Wyndham New Yorker',\n",
       " 'Roxy Hotel Tribeca (formerly the Tribeca Grand Hotel)',\n",
       " 'Courtyard Newark Elizabeth',\n",
       " 'The St. Regis New York',\n",
       " 'Best Western Bowery Hanbee Hotel',\n",
       " 'Crowne Plaza Times Square Manhattan',\n",
       " 'Hudson New York Central Park',\n",
       " 'Hampton Inn New York - LaGuardia Airport',\n",
       " 'Wyndham Garden Chinatown',\n",
       " 'Courtyard New York Manhattan Times Square West',\n",
       " 'The Kitano New York',\n",
       " 'Aloft Harlem',\n",
       " 'Super 8 Brooklyn   Park Slope Hotel',\n",
       " 'Baccarat Hotel and Residences New York',\n",
       " 'The Mark',\n",
       " 'Chelsea Inn',\n",
       " 'The Out NYC',\n",
       " 'Courtyard by Marriott New York Manhattan   Central Park',\n",
       " 'Hilton New York JFK Airport',\n",
       " 'Blakely New York',\n",
       " 'Days Inn Bronx Near Stadium',\n",
       " 'The Benjamin',\n",
       " 'The Shoreham Hotel',\n",
       " 'Jet Luxury at the Trump SoHo',\n",
       " 'Dumont NYC-an Affinia hotel',\n",
       " 'TRYP By Wyndham Times Square South']"
      ]
     },
     "execution_count": 14,
     "metadata": {},
     "output_type": "execute_result"
    }
   ],
   "source": [
    "from pyspark.sql.functions import desc\n",
    "\n",
    "# group by hotel name and count, take the first 150 hotels with the biggest count \n",
    "count_by_hotel_names = hotels_data_with_dates.groupBy('Hotel Name').count().sort(desc('count')).limit(150)\n",
    "\n",
    "# get a list of the first 150 hotel names \n",
    "first_150_hotel_names = count_by_hotel_names.toPandas()['Hotel Name'].tolist()\n",
    "\n",
    "# filter the most common 150 hotels from hotels_data_with_dates\n",
    "hotels_150_data = hotels_data_with_dates.filter(col('Hotel Name').isin(first_150_hotel_names))\n",
    "\n",
    "first_150_hotel_names"
   ]
  },
  {
   "cell_type": "markdown",
   "metadata": {},
   "source": [
    "## Filter records by most common 40 checkin dates "
   ]
  },
  {
   "cell_type": "code",
   "execution_count": 17,
   "metadata": {},
   "outputs": [
    {
     "data": {
      "text/plain": [
       "[datetime.date(2015, 11, 11),\n",
       " datetime.date(2015, 10, 14),\n",
       " datetime.date(2015, 11, 4),\n",
       " datetime.date(2015, 8, 19),\n",
       " datetime.date(2015, 10, 28),\n",
       " datetime.date(2015, 10, 21),\n",
       " datetime.date(2015, 11, 6),\n",
       " datetime.date(2015, 8, 12),\n",
       " datetime.date(2015, 11, 5),\n",
       " datetime.date(2015, 10, 22),\n",
       " datetime.date(2015, 11, 12),\n",
       " datetime.date(2015, 10, 29),\n",
       " datetime.date(2015, 9, 10),\n",
       " datetime.date(2015, 9, 9),\n",
       " datetime.date(2015, 11, 18),\n",
       " datetime.date(2015, 8, 26),\n",
       " datetime.date(2015, 11, 10),\n",
       " datetime.date(2015, 11, 13),\n",
       " datetime.date(2015, 10, 15),\n",
       " datetime.date(2015, 11, 21),\n",
       " datetime.date(2015, 9, 30),\n",
       " datetime.date(2015, 10, 30),\n",
       " datetime.date(2015, 9, 16),\n",
       " datetime.date(2015, 9, 17),\n",
       " datetime.date(2015, 11, 28),\n",
       " datetime.date(2015, 10, 1),\n",
       " datetime.date(2015, 11, 26),\n",
       " datetime.date(2015, 9, 11),\n",
       " datetime.date(2015, 9, 18),\n",
       " datetime.date(2015, 10, 16),\n",
       " datetime.date(2015, 11, 27),\n",
       " datetime.date(2015, 10, 2),\n",
       " datetime.date(2015, 10, 7),\n",
       " datetime.date(2015, 11, 7),\n",
       " datetime.date(2015, 8, 28),\n",
       " datetime.date(2015, 8, 27),\n",
       " datetime.date(2015, 10, 27),\n",
       " datetime.date(2015, 11, 3),\n",
       " datetime.date(2015, 8, 13),\n",
       " datetime.date(2015, 11, 25)]"
      ]
     },
     "execution_count": 17,
     "metadata": {},
     "output_type": "execute_result"
    }
   ],
   "source": [
    "# group by checkin and count, take the first 40 with biggest count\n",
    "count_by_checkin = hotels_150_data.groupBy('checkin_date').count().sort(desc('count')).limit(40)\n",
    "\n",
    "count_by_checkin = count_by_checkin.collect()\n",
    "\n",
    "# get a list of the most common 40 checkin dates\n",
    "first_40_checkin = [row[0] for row in count_by_checkin]\n",
    "# first_40_checkin = count_by_checkin.toPandas()['checkin_date'].tolist()\n",
    "\n",
    "# filter hotels data by the 40 most common dates\n",
    "hotels_by_40_checkin = hotels_150_data.filter(col('checkin_date').isin(first_40_checkin))\n",
    "\n",
    "first_40_checkin"
   ]
  },
  {
   "cell_type": "markdown",
   "metadata": {},
   "source": [
    "## Generating synthetic data"
   ]
  },
  {
   "cell_type": "code",
   "execution_count": 6,
   "metadata": {},
   "outputs": [],
   "source": [
    "#creating unique list for Hotel Name - Checkin Date - Discount code dummy combination generating \n",
    "unique_hotels_names = hotels_by_40_checkin.select('Hotel Name').distinct().collect()\n",
    "unique_hotels_names_list = [(row['Hotel Name']) for row in unique_hotels_names]\n",
    "\n",
    "unique_checkins =  hotels_by_40_checkin.select(\"checkin_date\").distinct().collect()\n",
    "unique_checkins_list = [(row['checkin_date']) for row in unique_checkins]\n",
    "\n",
    "unique_discount_code =  [1,2,3,4]\n",
    "\n",
    "# Create records with max price for each discount code for each date\n",
    "synth_data = []\n",
    "import sys\n",
    "for x in unique_hotels_names_list:\n",
    "    for y in unique_checkins_list:\n",
    "        for z in unique_discount_code:\n",
    "            synth_data.append([x, y ,z, sys.maxsize])\n",
    "\n",
    "#Making the schema of synth_data\n",
    "from pyspark.sql.types import *\n",
    "cSchema = StructType([StructField(\"Hotel Name\", StringType()),StructField(\"checkin_date\", DateType()),StructField(\"Discount Code\",  IntegerType()),StructField(\"min(Discount Price)\", LongType())])\n",
    "\n",
    "#Creating dummy df\n",
    "dummy_df = spark.createDataFrame(synth_data, schema=cSchema)\n",
    "\n",
    "sliced_df = hotels_by_40_checkin.select('Hotel Name', 'checkin_date','Discount Code', 'Discount Price')\n",
    "\n",
    "# joining dummy data with grouped data \n",
    "hotel_chekin_discountCode = sliced_df.union(dummy_df)\n",
    "\n",
    "# group by Checkin - Hotel - Discount Code\n",
    "hotel_chekin_discountCode = hotel_chekin_discountCode.groupBy('Hotel name','checkin_date', 'Discount Code').min('Discount Price')\n",
    "\n",
    "#replacing sys.max with -1 \n",
    "hotel_chekin_discountCode = hotel_chekin_discountCode.replace(sys.maxsize, -1)\n",
    "\n",
    "#sorting date\n",
    "hotel_chekin_discountCode = hotel_chekin_discountCode.orderBy(['Hotel name','checkin_date','Discount Code'])\n"
   ]
  },
  {
   "cell_type": "markdown",
   "metadata": {},
   "source": [
    "## Normalizing data\n"
   ]
  },
  {
   "cell_type": "code",
   "execution_count": 7,
   "metadata": {},
   "outputs": [],
   "source": [
    "#split to two groups: one with price of -1, one with greater than -1\n",
    "groupMinus = hotel_chekin_discountCode.filter(col('min(Discount Price)') == -1)\n",
    "groupGreater = hotel_chekin_discountCode.filter(col('min(Discount Price)') > -1)"
   ]
  },
  {
   "cell_type": "code",
   "execution_count": 8,
   "metadata": {},
   "outputs": [],
   "source": [
    "from pyspark.sql import SQLContext\n",
    "from pyspark.sql.window import Window\n",
    "import pyspark.sql.functions as func\n",
    "\n",
    "groupGreater.createOrReplaceTempView(\"normalization\")\n",
    "\n",
    "#Creating SQLContext for SQL converting\n",
    "sqlContext = SQLContext(spark)\n",
    "    \n",
    "#Preparing data for normalization\n",
    "dataFrame = sqlContext.table(\"normalization\")\n",
    "#Partioning data for groups so we can applay function on groups\n",
    "windowSpec = Window.partitionBy(groupGreater['Hotel name'])  \n",
    "\n",
    "\n",
    "#Normalize function\n",
    "diff = func.max(dataFrame['min(Discount Price)']).over(windowSpec) - func.min(dataFrame['min(Discount Price)']).over(windowSpec)\n",
    "normalize = func.when( diff == 0, 0).otherwise( ( dataFrame['min(Discount Price)'] - func.min(dataFrame['min(Discount Price)']).over(windowSpec) ) / diff * 100 )\n",
    "\n",
    "# diff = func.max(dataFrame['min(Discount Price)']).over(windowSpec) - func.min(dataFrame['min(Discount Price)']).over(windowSpec) == 0, 0).otherwise( ( func.max(dataFrame['min(Discount Price)']).over(windowSpec) - func.min(dataFrame['min(Discount Price)']).over(windowSpec) ) * 100 )\n",
    "# normalize =  ((dataFrame['min(Discount Price)'] - func.min(dataFrame['min(Discount Price)']).over(windowSpec)) / diff)\n",
    "\n",
    "normalized_df = dataFrame.select(\n",
    "  dataFrame['Hotel Name'],\n",
    "  dataFrame['checkin_date'],\n",
    "  dataFrame['Discount Code'],\n",
    "  normalize.alias(\"Normal\"))\n",
    "\n",
    "# normalized_df.toPandas().isnull().values.any()\n"
   ]
  },
  {
   "cell_type": "markdown",
   "metadata": {},
   "source": [
    "### Joining back -1 values"
   ]
  },
  {
   "cell_type": "code",
   "execution_count": 9,
   "metadata": {},
   "outputs": [],
   "source": [
    "#Changing column name for same schema\n",
    "groupMinus = groupMinus.withColumnRenamed('min(Discount Price)','Normal')\n",
    "\n",
    "#Union all data frames with sorting\n",
    "normalized_df = normalized_df.union(groupMinus)\n",
    "normalized_df = normalized_df.orderBy(['Hotel name','checkin_date','Discount Code'])\n"
   ]
  },
  {
   "cell_type": "code",
   "execution_count": 10,
   "metadata": {},
   "outputs": [],
   "source": [
    "# normalized_df.dtypes"
   ]
  },
  {
   "cell_type": "markdown",
   "metadata": {},
   "source": [
    "## Flatten each hotel values to Vector Dense values"
   ]
  },
  {
   "cell_type": "code",
   "execution_count": 11,
   "metadata": {},
   "outputs": [],
   "source": [
    "from pyspark.sql import functions as F\n",
    "from pyspark.sql import types as T\n",
    "from pyspark.ml.linalg import SparseVector, DenseVector\n",
    "from pyspark.ml.linalg import Vectors, VectorUDT\n",
    "\n",
    "to_vector = udf(lambda a: Vectors.dense(a), VectorUDT())\n",
    "\n",
    "normal_toList = normalized_df.groupBy('Hotel name').agg(F.collect_list('Normal').alias(\"features\"))\n",
    "normal_features = normal_toList.withColumn(\"features\",to_vector(\"features\")).drop(\"Hotel Name\")\n",
    "\n",
    "#normal_toList.select(\"Normal\").flatMap(lambda x : x)\n",
    "\n",
    "#parsing to df \n",
    "#all_hotels_df =  normal_toList.select([normal_toList[\"Hotel name\"]] +  [normal_toList.Normal[i] for i in range(160)])"
   ]
  },
  {
   "cell_type": "markdown",
   "metadata": {},
   "source": [
    "## Calculating Bisecting K-Means "
   ]
  },
  {
   "cell_type": "code",
   "execution_count": 19,
   "metadata": {},
   "outputs": [
    {
     "name": "stdout",
     "output_type": "stream",
     "text": [
      "[array([6.78064200e+00, 5.00971299e+00, 4.74151800e+00, 1.01035078e+00,\n",
      "       1.53957323e+00, 4.54731496e+00, 2.18055430e+00, 1.51242508e+00,\n",
      "       2.40490691e+00, 2.34360919e+00, 3.04890332e+00, 7.95632616e-01,\n",
      "       2.40714876e+00, 3.38832908e+00, 1.09663390e+00, 5.67565267e-01,\n",
      "       2.02534642e+00, 3.60851283e+00, 2.15370354e+00, 6.21461435e-01,\n",
      "       2.90935899e+00, 6.05531627e+00, 5.48503269e+00, 7.99441900e-01,\n",
      "       4.86479988e+00, 1.12691275e+01, 1.06123528e+01, 4.19683575e+00,\n",
      "       8.75847216e+00, 1.97741475e+01, 9.01797845e+00, 7.76225808e+00,\n",
      "       6.25786848e+00, 1.70576385e+01, 8.05304841e+00, 2.34412752e+00,\n",
      "       2.97021209e+00, 7.01486495e+00, 5.98886753e+00, 6.03631016e+00,\n",
      "       4.21701376e+00, 8.61357780e+00, 5.58422962e+00, 3.16943914e+00,\n",
      "       6.43481316e+00, 1.15902502e+01, 7.15791863e+00, 3.97121028e+00,\n",
      "       9.03593481e+00, 8.48587660e+00, 8.65401889e+00, 5.02895988e+00,\n",
      "       1.09501965e+01, 1.00908663e+01, 1.34504963e+01, 7.38894263e+00,\n",
      "       8.06431723e+00, 1.95293118e+01, 1.03285291e+01, 7.28171645e+00,\n",
      "       6.53670982e+00, 1.13074558e+01, 1.23746566e+01, 7.31622450e+00,\n",
      "       5.78774192e+00, 1.31993162e+01, 1.30886697e+01, 5.41829193e+00,\n",
      "       7.33809404e+00, 1.55006048e+01, 1.16362691e+01, 6.71438579e+00,\n",
      "       8.27425355e+00, 1.65380535e+01, 1.60873747e+01, 6.10858439e+00,\n",
      "       9.66215841e+00, 1.67363048e+01, 1.30551177e+01, 1.18549900e+01,\n",
      "       6.07522061e+00, 1.21004737e+01, 1.36732670e+01, 3.88847409e+00,\n",
      "       5.58586910e+00, 1.33206256e+01, 1.58939141e+01, 3.52407306e+00,\n",
      "       1.13309135e+01, 1.25525948e+01, 1.21561026e+01, 6.73097816e+00,\n",
      "       5.44321567e+00, 9.88439629e+00, 1.10886585e+01, 7.98526868e+00,\n",
      "       4.82995883e+00, 1.29100000e+01, 8.75995996e+00, 4.10275673e+00,\n",
      "       4.06826860e+00, 7.93122961e+00, 1.04050935e+01, 4.65984362e+00,\n",
      "       7.76533241e+00, 1.08340064e+01, 6.14672929e+00, 3.66441304e+00,\n",
      "       6.70497892e+00, 1.43042348e+01, 1.01176694e+01, 5.40103682e+00,\n",
      "       7.16272108e+00, 1.63071264e+01, 1.35218762e+01, 4.17455383e+00,\n",
      "       1.01277153e+01, 1.61531889e+01, 8.21825636e+00, 2.73508196e+00,\n",
      "       6.46026220e+00, 9.99098051e+00, 1.36518590e+01, 5.87649024e+00,\n",
      "       5.23833605e+00, 8.87311564e+00, 7.37448925e+00, 2.44360481e+00,\n",
      "       4.02099515e+00, 5.56406289e+00, 4.21783803e+00, 3.20846819e+00,\n",
      "       3.76847185e+00, 9.06551814e+00, 7.05449988e+00, 1.14640669e+00,\n",
      "       3.52565078e+00, 2.37782905e+00, 4.01402885e+00, 1.51052436e+00,\n",
      "       8.13390814e-01, 2.03173237e+00, 2.34744141e+00, 4.46161373e-01,\n",
      "       1.79325488e+00, 3.64535661e+00, 9.87653866e-01, 1.35418593e-02,\n",
      "       2.75264804e+00, 4.74288615e+00, 3.88790558e+00, 1.97620037e+00,\n",
      "       2.98270137e+00, 1.20197833e+01, 1.01688128e+01, 3.28253933e+00,\n",
      "       5.78516157e+00, 8.98515042e+00, 7.18991240e+00, 2.65390485e+00]), array([15.66007322, 19.50893033, 21.39113365, 16.51730556,  7.86482799,\n",
      "       13.75923415, 13.47616693, 10.52137072, 12.27974025, 15.10497022,\n",
      "       17.03869383, 12.73662607,  7.65084208, 10.96724125, 11.93581821,\n",
      "        9.76074455,  7.73725621,  7.69068625,  9.41726765,  5.89921271,\n",
      "        9.07651649, 10.22436715,  9.48241769,  6.52890532, 30.19012291,\n",
      "       36.5792221 , 43.49696081, 26.90474898, 21.33737172, 35.97744513,\n",
      "       31.25179306, 26.78813418, 36.48639014, 41.16551593, 35.88256479,\n",
      "       15.4793475 , 31.54686904, 37.18520225, 56.45116125, 42.24360009,\n",
      "       25.09122649, 39.55812093, 38.1295893 , 33.0006264 , 38.97617041,\n",
      "       40.72443221, 36.06273444, 26.07315479, 33.09978681, 35.3821118 ,\n",
      "       46.17560266, 33.61825105, 22.42558229, 38.308612  , 29.8282306 ,\n",
      "       29.84250484, 37.26531863, 36.47882157, 35.51604451, 30.40300979,\n",
      "       38.20506285, 47.23643141, 44.37406908, 42.90686009, 39.62776237,\n",
      "       52.39380019, 58.57931586, 41.43622381, 25.12587937, 43.81918172,\n",
      "       35.4397097 , 33.15726601, 28.69164245, 39.1740947 , 36.00791486,\n",
      "       23.14215458, 36.46812331, 42.28155257, 46.6260289 , 39.06829592,\n",
      "       29.51484158, 35.92200502, 38.00754898, 38.34438302, 14.05194163,\n",
      "       32.0728616 , 34.49687767, 20.78302027, 30.84884277, 33.35681809,\n",
      "       37.1735136 , 27.4153681 , 23.67866518, 34.28153173, 32.42039758,\n",
      "       19.72993048, 32.93472385, 34.79042569, 25.85900374, 15.00987635,\n",
      "       17.58477781, 37.55264644, 38.82191377, 27.87576106, 29.22366043,\n",
      "       34.707834  , 37.66915474, 24.12562356, 19.96217425, 27.81891676,\n",
      "       20.00470698, 20.51660987, 28.19991453, 29.80720571, 30.47135728,\n",
      "       18.35666809, 29.21849049, 36.78098359, 25.33089243, 10.12967212,\n",
      "       13.45604888, 25.65568303, 27.79366275, 23.99629232, 24.17261812,\n",
      "       28.16973506, 30.41669131, 22.0822566 , 12.79243939, 18.36381983,\n",
      "       21.96549509, 15.84613904, 24.15795594, 23.68837164, 25.07252083,\n",
      "       17.37178204, 11.38337382, 14.92088144, 17.02329591, 13.71706539,\n",
      "        3.70417882,  6.48967956,  4.51346727,  3.49176974,  5.52840047,\n",
      "        7.56199473, 11.87308865, 11.43363496,  9.55474081, 10.24404388,\n",
      "       13.57170894,  9.81848999, 15.46721241, 21.25323524, 22.96824945,\n",
      "       16.50864394, 24.29250987, 25.52823381, 24.63679583, 16.21522217])]\n"
     ]
    }
   ],
   "source": [
    "from pyspark.ml.clustering import BisectingKMeans\n",
    "\n",
    "bkm = BisectingKMeans(k=2, minDivisibleClusterSize=1.0)\n",
    "model = bkm.fit(normal_features)\n",
    "centers = model.clusterCenters()\n",
    "print(centers)\n",
    "\n",
    "\n",
    "# NOTES\n",
    "# The Bisecting algorithem is an top-down algorithem.\n",
    "# First, it collect the data to the driver, and on each divide it's split the data into partitions to make it parellelize \n",
    "# without dependeny of data."
   ]
  },
  {
   "cell_type": "code",
   "execution_count": 20,
   "metadata": {},
   "outputs": [
    {
     "data": {
      "text/plain": [
       "2"
      ]
     },
     "execution_count": 20,
     "metadata": {},
     "output_type": "execute_result"
    }
   ],
   "source": [
    "len(centers)"
   ]
  },
  {
   "cell_type": "markdown",
   "metadata": {},
   "source": [
    "## Dendogram"
   ]
  },
  {
   "cell_type": "code",
   "execution_count": null,
   "metadata": {
    "scrolled": false
   },
   "outputs": [],
   "source": [
    "#importing clustering libaries \n",
    "from scipy.cluster.hierarchy import dendrogram, linkage \n",
    "from matplotlib import pyplot as plt\n",
    "from scipy import cluster\n",
    "shc = cluster.hierarchy\n",
    "\n",
    "# back to pandas\n",
    "vector = all_hotels_df.toPandas()\n",
    "\n",
    "print (vector[vector[\"Hotel name\"] == \"Bentley Hotel\"])\n",
    "\n",
    "#preproccesing data for clustering\n",
    "labels = vector.values[:,0]\n",
    "data = vector.values[:,1:160]\n",
    "plt.figure(figsize=(20, 10))  \n",
    "plt.title(\"Clustering Hotels\")  \n",
    "\n",
    "# \"ward\" - minimizes the variance between clusters, that means that each two clusters were combine if their variance is alike \n",
    "Z = shc.linkage(data, method='ward')\n",
    "dend = shc.dendrogram(Z, labels=labels) "
   ]
  },
  {
   "cell_type": "markdown",
   "metadata": {},
   "source": [
    "## Hotel to Cluster"
   ]
  },
  {
   "cell_type": "code",
   "execution_count": null,
   "metadata": {},
   "outputs": [],
   "source": [
    "from sklearn.cluster import AgglomerativeClustering\n",
    "import pandas as pd\n",
    "\n",
    "#running the algorithem again in a diffrent way\n",
    "cluster = AgglomerativeClustering(n_clusters=3, affinity='euclidean', linkage='ward')  \n",
    "clusters = cluster.fit_predict(vector.values[:,1:160])  \n",
    "\n",
    "hotels = pd.DataFrame.from_records(vector.values)\n",
    "\n",
    "hotels[\"cluster\"] = clusters\n",
    "hotels = hotels[[0,\"cluster\"]]\n",
    "hotels.sort_values(by=[\"cluster\"],ascending=True,inplace=True)\n",
    "\n",
    "hotels[\"Count\"] = hotels.groupby(\"cluster\")[0].transform(\"count\")\n",
    "# hotels[hotels[0] == \"NOMO SOHO\"]\n",
    "hotels"
   ]
  },
  {
   "cell_type": "code",
   "execution_count": null,
   "metadata": {},
   "outputs": [],
   "source": []
  }
 ],
 "metadata": {
  "kernelspec": {
   "display_name": "Python 3",
   "language": "python",
   "name": "python3"
  },
  "language_info": {
   "codemirror_mode": {
    "name": "ipython",
    "version": 3
   },
   "file_extension": ".py",
   "mimetype": "text/x-python",
   "name": "python",
   "nbconvert_exporter": "python",
   "pygments_lexer": "ipython3",
   "version": "3.6.8"
  }
 },
 "nbformat": 4,
 "nbformat_minor": 2
}
